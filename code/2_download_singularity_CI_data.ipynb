{
 "cells": [
  {
   "cell_type": "code",
   "execution_count": null,
   "metadata": {},
   "outputs": [],
   "source": [
    "# import project modules\n",
    "import download_data\n",
    "# import packages\n",
    "import pandas as pd\n",
    "from os import path"
   ]
  },
  {
   "cell_type": "code",
   "execution_count": null,
   "metadata": {},
   "outputs": [],
   "source": [
    "# full BA list\n",
    "ba_list = ['EIA.CISO', 'EIA.ISNE', 'EIA.BPAT','EIA.MISO', 'EIA.NYIS', 'EIA.PJM', 'EIA.SWPP',\n",
    "'AEC', 'AECI', 'AVA', 'AZPS', 'BANC', 'CHPD', 'CPLE', 'CPLW', 'DOPD', 'DUK', 'EPE', 'ERCO', 'FMPP', \n",
    "'FPC', 'FPL', 'GCPD', 'GVL', 'HST', 'IID', 'IPCO', 'JEA', 'LDWP', 'LGEE', 'NEVP', 'NSB', \n",
    "'NWMT', 'PACE', 'PACW', 'PGE', 'PNM', 'PSCO', 'PSEI', 'SC', 'SCEG', 'SCL', 'SEC', \n",
    "'SOCO', 'SPA', 'SRP', 'TAL', 'TEC', 'TEPC', 'TIDC', 'TPWR', 'TVA', 'WACM', 'WALC', 'WAUW']\n",
    "\n",
    "# we want 2019 data\n",
    "start_date = '2019-01-01'\n",
    "end_date = '2019-12-31'\n",
    "\n",
    "# set overwrite = True if you want to overwrite already downloaded files\n",
    "overwrite = True\n",
    "\n",
    "# Enter your Singularity API password\n",
    "api_credentials = ''"
   ]
  },
  {
   "cell_type": "code",
   "execution_count": null,
   "metadata": {},
   "outputs": [],
   "source": [
    "\n",
    "\n",
    "for ba in ba_list:\n",
    "\n",
    "    if path.exists(f'../data/processed/singularity_efs/{ba}.csv'):\n",
    "        if overwrite == False:\n",
    "            print(f'{ba} already downloaded.')\n",
    "        elif overwrite == True:\n",
    "            # download the data\n",
    "            df = download_data.download_singularity_data(\n",
    "                api_key=api_credentials, ba=ba, start_date=start_date, end_date=end_date)\n",
    "\n",
    "            # save the data\n",
    "            df.to_csv(f'../data/processed/singularity_efs/{ba}.csv')\n",
    "    else:\n",
    "        # download the data\n",
    "        df = download_data.download_singularity_data(\n",
    "            api_key=api_credentials, ba=ba, start_date=start_date, end_date=end_date)\n",
    "\n",
    "        # save the data\n",
    "        df.to_csv(f'../data/processed/singularity_efs/{ba}.csv')"
   ]
  }
 ],
 "metadata": {
  "language_info": {
   "name": "python"
  },
  "orig_nbformat": 4
 },
 "nbformat": 4,
 "nbformat_minor": 2
}
