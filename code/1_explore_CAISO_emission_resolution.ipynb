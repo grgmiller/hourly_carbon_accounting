{
 "cells": [
  {
   "cell_type": "code",
   "execution_count": null,
   "metadata": {},
   "outputs": [],
   "source": [
    "%reload_ext autoreload\n",
    "%autoreload 2\n",
    "\n",
    "# import packages\n",
    "import pandas as pd\n",
    "import numpy as np\n",
    "#from pathlib import Path\n",
    "import plotly.express as px\n",
    "import plotly\n",
    "from os import path\n",
    "import missingno\n",
    "from statsmodels.formula.api import ols\n",
    "\n",
    "#allow the notebook to display plots in html report\n",
    "plotly.offline.init_notebook_mode()"
   ]
  },
  {
   "cell_type": "markdown",
   "metadata": {},
   "source": [
    "# Desription\n",
    "The purpose of this notebook is to examine 5-min operational data published by CAISO to determine whether sub-hourly accounting significantly improves hourly accounting, and whether emissions vary that much within a single hour\n",
    "\n",
    "Steps:\n",
    "- download the data from https://raw.githubusercontent.com/grgmiller/CAISO_data/master/CAISOdata.csv\n",
    "- calculate the 5-minute emission rate\n",
    "- explore variance, etc"
   ]
  },
  {
   "cell_type": "code",
   "execution_count": null,
   "metadata": {},
   "outputs": [],
   "source": [
    "# read the data from github\n",
    "data = pd.read_csv('https://raw.githubusercontent.com/grgmiller/CAISO_data/master/CAISOdata.csv', parse_dates={'datetime_local':['date','5min_ending']})\n",
    "data.head(5)"
   ]
  },
  {
   "cell_type": "code",
   "execution_count": null,
   "metadata": {},
   "outputs": [],
   "source": [
    "# keep data for 2019\n",
    "data = data[data['datetime_local'].dt.year == 2019]\n",
    "data['generation_MW'] = data.renewable_MW + data.natgas_MW + data.lg_hydro_MW + data.imports_MW + data.nuclear_MW + data.coal_MW + data.other_MW\n",
    "# calculate the conumed emissions, converting from mT/MWh to lb/MWh\n",
    "data['ef'] =  (data.natgas_co2 + data.imports_co2 + data.coal_co2 + data.biogas_co2 + data.biomass_co2 + data.geothermal_co2) / data.demand_actual * 2204.62\n",
    "data['ef_gen'] =  (data.natgas_co2 + data.imports_co2 + data.coal_co2 + data.biogas_co2 + data.biomass_co2 + data.geothermal_co2) / data.generation_MW * 2204.62\n",
    "\n",
    "ef = data.copy()[['datetime_local','ef']].set_index('datetime_local')\n",
    "\n",
    "#resample to 5min to make sure we have a complete timeseries index\n",
    "ef = ef.resample('5T').mean()\n",
    "\n",
    "# screen out super high and low values\n",
    "ef[ef['ef'] <= 0 ] = np.NaN\n",
    "ef[ef['ef'] > 1000] = np.NaN\n",
    "\n",
    "# calculate different averages\n",
    "ef = ef.rename(columns={'ef':'5min'})\n",
    "\n",
    "resolutions = ['15min','30min','H','MS','QS','AS']\n",
    "resolution_name = {'15min':'15min','30min':'30min','H':'hourly','MS':'monthly','QS':'quarterly','AS':'annual'}\n",
    "\n",
    "for res in resolutions:\n",
    "    ef = ef.merge(ef.copy()[['5min']].resample(res).mean().rename(columns={'5min':resolution_name[res]}), how='left', left_index=True, right_index=True).fillna(method='ffill')\n",
    "\n",
    "ef"
   ]
  },
  {
   "cell_type": "code",
   "execution_count": null,
   "metadata": {},
   "outputs": [],
   "source": [
    "variation = pd.DataFrame(columns=['MAPE [%]','STDEV [lbCO2/MWh]','COV [%]'])\n",
    "\n",
    "def cov(x):\n",
    "    return x.std(ddof=0) / x.mean()\n",
    "\n",
    "# calculate MAPE\n",
    "for res in resolution_name.values():\n",
    "    mape = round(abs((ef['5min'] - ef[res]) / ef['5min']).mean() * 100, 1)\n",
    "    variation.loc[res, 'MAPE [%]'] = mape\n",
    "\n",
    "# calculate standard deviation and COV\n",
    "for res in resolutions:\n",
    "    variation.loc[resolution_name[res], 'STDEV [lbCO2/MWh]'] = round(ef[['5min']].resample(res).std(ddof=0).mean()[0], 1)\n",
    "    variation.loc[resolution_name[res], 'COV [%]'] = round(ef[['5min']].resample(res).apply(cov).mean()[0] * 100, 1)\n",
    "\n",
    "\n",
    "variation"
   ]
  },
  {
   "cell_type": "code",
   "execution_count": null,
   "metadata": {},
   "outputs": [],
   "source": [
    "variation_plot_data = variation.reset_index().rename(columns={'index':'Period'}).replace({'hourly':'hour','monthly':'month','quarterly':'quarter','annual':'year'})"
   ]
  },
  {
   "cell_type": "code",
   "execution_count": null,
   "metadata": {},
   "outputs": [],
   "source": [
    "caiso_5min_cov = px.bar(variation_plot_data,\n",
    "       x='Period', \n",
    "       y='COV [%]', \n",
    "       text='COV [%]', \n",
    "       template='plotly_white', \n",
    "       labels={'COV [%]':'Coefficient of Variation (%)','Period':'Emission Factor Resolution'},\n",
    "       category_orders={'Period':['year','quarter','month','hour','30min','15min']}) \\\n",
    ".update_traces(textposition='outside') \\\n",
    ".update_yaxes(range=[0,35])\n",
    "\n",
    "\n",
    "caiso_5min_cov.write_image(\"../results/figures/caiso_5min_cov.jpeg\")\n",
    "caiso_5min_cov.show()"
   ]
  },
  {
   "cell_type": "code",
   "execution_count": null,
   "metadata": {},
   "outputs": [],
   "source": [
    "# monthly COV\n",
    "\n",
    "def cov(x):\n",
    "    return x.std(ddof=0) / x.mean()\n",
    "\n",
    "stdev_df = \n",
    "for res in resolutions:\n",
    "    ef[['5min']].resample(res).std(ddof=0).mean()"
   ]
  },
  {
   "cell_type": "code",
   "execution_count": null,
   "metadata": {},
   "outputs": [],
   "source": [
    "px.line(ef, x=ef.index, y='ef')"
   ]
  }
 ],
 "metadata": {
  "interpreter": {
   "hash": "bbfb11d76ba7fcd62de728492717c2999a3c11ae1c83ea329d6e038c7a5b35c0"
  },
  "kernelspec": {
   "display_name": "Python 3.7.10 64-bit ('emissions': conda)",
   "name": "python3"
  },
  "language_info": {
   "codemirror_mode": {
    "name": "ipython",
    "version": 3
   },
   "file_extension": ".py",
   "mimetype": "text/x-python",
   "name": "python",
   "nbconvert_exporter": "python",
   "pygments_lexer": "ipython3",
   "version": "3.7.10"
  },
  "orig_nbformat": 2
 },
 "nbformat": 4,
 "nbformat_minor": 2
}
